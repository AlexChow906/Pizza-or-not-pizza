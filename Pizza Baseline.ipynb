{
 "cells": [
  {
   "cell_type": "code",
   "execution_count": 1,
   "id": "de58c12e-8f89-4cb8-920c-5740e8aad87a",
   "metadata": {},
   "outputs": [],
   "source": [
    "import os\n",
    "import numpy as np\n",
    "import matplotlib.pyplot as plt\n",
    "import sklearn as sk\n",
    "import pandas as pd\n",
    "import seaborn as sns\n",
    "import cv2\n",
    "import tensorflow as tf\n",
    "import re\n",
    "import random\n",
    "\n",
    "from sklearn.model_selection import train_test_split\n",
    "from sklearn.preprocessing import LabelEncoder\n",
    "from sklearn.metrics import classification_report, confusion_matrix\n",
    "\n",
    "from tensorflow import keras\n",
    "from tensorflow.keras import layers\n",
    "from keras import optimizers\n",
    "from keras.layers import Input, Flatten, Activation, Dense, BatchNormalization, Dropout, Conv2D, MaxPooling2D\n",
    "from keras.models import Model, load_model\n",
    "from keras.utils import np_utils\n",
    "from keras import backend as K\n",
    "from keras.callbacks import EarlyStopping, ModelCheckpoint, ReduceLROnPlateau\n",
    "from keras.preprocessing.image import ImageDataGenerator"
   ]
  },
  {
   "cell_type": "code",
   "execution_count": 2,
   "id": "85271522-1345-4e4c-9272-c4c4cf13c12f",
   "metadata": {},
   "outputs": [],
   "source": [
    "height, width, depth = 96, 96, 3\n",
    "save_path = 'python/first_model.model'"
   ]
  },
  {
   "cell_type": "code",
   "execution_count": 3,
   "id": "8ead71f1-4fa4-4b3c-8ade-efac012ca297",
   "metadata": {},
   "outputs": [],
   "source": [
    "def load_dataset(path, height, width, least_num):\n",
    "    image_list, label_list = [], []\n",
    "    for root, dirs, files in os.walk(path):\n",
    "        temp_images, temp_labels = [], []\n",
    "        for file in files:\n",
    "            try:\n",
    "                image_path = os.path.join(root, file)\n",
    "                image = cv2.imread(image_path)\n",
    "                image = cv2.resize(image, (height, width))\n",
    "                temp_images.append(image)\n",
    "                temp_labels.append(root.split('\\\\')[1])\n",
    "            except:\n",
    "                continue\n",
    "        if len(temp_images)>= least_num:\n",
    "            image_list.extend(temp_images)\n",
    "            label_list.extend(temp_labels)\n",
    "            \n",
    "    num_classes = len(np.unique(label_list))\n",
    "    # num_classes = 1\n",
    "    \n",
    "    return image_list, label_list, num_classes"
   ]
  },
  {
   "cell_type": "code",
   "execution_count": 4,
   "id": "c2ef251c-cde2-48a7-832e-c4bb7aa98aa8",
   "metadata": {},
   "outputs": [],
   "source": [
    "def get_model(height, weight, depth, num_classes):\n",
    "    K.clear_session()\n",
    "    \n",
    "    X_input = Input((height, width, depth))\n",
    "    \n",
    "    X = Conv2D(32, (3,3), padding = 'same', activation = 'relu')(X_input)\n",
    "    X = Conv2D(32, (3,3), padding = 'same', activation = 'relu')(X)\n",
    "    X = Flatten()(X)\n",
    "    X = Dense (num_classes, activation = 'softmax')(X)\n",
    "    \n",
    "    model = Model(inputs = X_input, outputs = X)\n",
    "    model.compile(loss = 'binary_crossentropy', optimizer = 'adam', metrics =['accuracy'])\n",
    "    \n",
    "    return model"
   ]
  },
  {
   "cell_type": "code",
   "execution_count": 5,
   "id": "5f1b81b9-4db9-4ec5-93a2-f5dfb19fd685",
   "metadata": {},
   "outputs": [],
   "source": [
    "def train_model(model, epochs, save_path, train_X, train_y, test_X, test_y, data_augmentation = False):\n",
    "    batch_size = 32\n",
    "    early_stopping = EarlyStopping(patience=20, verbose=1)\n",
    "    model_checkpoint = ModelCheckpoint(save_path, save_best_only=True, verbose=1)\n",
    "    reduce_lr = ReduceLROnPlateau(factor=0.5, patience=5, verbose=1)\n",
    "    callbacks = [early_stopping, model_checkpoint, reduce_lr]\n",
    "    \n",
    "    if data_augmentation:\n",
    "        datagen = ImageDataGenerator(\n",
    "            rescale=1/255.,\n",
    "            featurewise_center=False, # Set input mean to 0 over the dataset, feature-wise.\n",
    "            samplewise_center=False, # Set each sample mean to 0.\n",
    "            featurewise_std_normalization=False, # Divide inputs by std of the dataset, feature-wise.\n",
    "            samplewise_std_normalization=False, # Divide each input by its std.\n",
    "            zca_whitening=False, # Apply ZCA whitening.\n",
    "            rotation_range=15, # Degree range for random rotations.\n",
    "            width_shift_range=0.1,\n",
    "            height_shift_range=0.1,\n",
    "            horizontal_flip=True,\n",
    "            vertical_flip=False)\n",
    "\n",
    "    else:\n",
    "        datagen = ImageDataGenerator(\n",
    "            rescale=1/255)\n",
    "    \n",
    "    history = model.fit_generator(datagen.flow(train_X, train_y, batch_size=batch_size), \n",
    "                                  steps_per_epoch=len(train_X) / batch_size,\n",
    "                                  validation_data=datagen.flow(test_X, test_y, batch_size=batch_size),\n",
    "                                  validation_steps=len(test_X) / batch_size,\n",
    "                                  epochs=epochs,\n",
    "                                  callbacks=callbacks)\n",
    "    \n",
    "    return model, history"
   ]
  },
  {
   "cell_type": "code",
   "execution_count": 6,
   "id": "9d137d3d-0ff4-4f3e-bc1a-826e85daa313",
   "metadata": {},
   "outputs": [],
   "source": [
    "image_list, label_list, num_classes = load_dataset('/Users/User/Downloads/archive/pizza_not_pizza', height, width, 300)"
   ]
  },
  {
   "cell_type": "code",
   "execution_count": 7,
   "id": "f1fc220d-8b90-4b5e-b01f-db87259a28b4",
   "metadata": {},
   "outputs": [],
   "source": [
    "le = LabelEncoder()\n",
    "label_list = le.fit_transform(label_list)\n",
    "\n",
    "np.save('classes.npy', le.classes_)"
   ]
  },
  {
   "cell_type": "code",
   "execution_count": 8,
   "id": "9fd0bc46-1847-4d92-a2b8-39c1d0ae809d",
   "metadata": {},
   "outputs": [],
   "source": [
    "train_X, test_X, train_y, test_y = train_test_split(np.array(image_list), label_list, test_size = 0.2, stratify = label_list)"
   ]
  },
  {
   "cell_type": "code",
   "execution_count": 9,
   "id": "17a6f737-ab71-4bfb-8b09-ea3cb9e37fcc",
   "metadata": {},
   "outputs": [],
   "source": [
    "train_y = np_utils.to_categorical(train_y)\n",
    "test_y = np_utils.to_categorical(test_y)"
   ]
  },
  {
   "cell_type": "code",
   "execution_count": 10,
   "id": "f690af1a-e578-4607-b936-d683dd8d5229",
   "metadata": {},
   "outputs": [
    {
     "name": "stdout",
     "output_type": "stream",
     "text": [
      "Model: \"model\"\n",
      "_________________________________________________________________\n",
      " Layer (type)                Output Shape              Param #   \n",
      "=================================================================\n",
      " input_1 (InputLayer)        [(None, 96, 96, 3)]       0         \n",
      "                                                                 \n",
      " conv2d (Conv2D)             (None, 96, 96, 32)        896       \n",
      "                                                                 \n",
      " conv2d_1 (Conv2D)           (None, 96, 96, 32)        9248      \n",
      "                                                                 \n",
      " flatten (Flatten)           (None, 294912)            0         \n",
      "                                                                 \n",
      " dense (Dense)               (None, 2)                 589826    \n",
      "                                                                 \n",
      "=================================================================\n",
      "Total params: 599,970\n",
      "Trainable params: 599,970\n",
      "Non-trainable params: 0\n",
      "_________________________________________________________________\n"
     ]
    }
   ],
   "source": [
    "model = get_model(height, width, depth, num_classes)\n",
    "model.summary()"
   ]
  },
  {
   "cell_type": "code",
   "execution_count": 11,
   "id": "a574bed2-19be-4d62-ba02-da42ece8696b",
   "metadata": {},
   "outputs": [
    {
     "name": "stdout",
     "output_type": "stream",
     "text": [
      "Epoch 1/200\n"
     ]
    },
    {
     "name": "stderr",
     "output_type": "stream",
     "text": [
      "C:\\Users\\User\\AppData\\Local\\Temp\\ipykernel_8684\\2504467667.py:26: UserWarning: `Model.fit_generator` is deprecated and will be removed in a future version. Please use `Model.fit`, which supports generators.\n",
      "  history = model.fit_generator(datagen.flow(train_X, train_y, batch_size=batch_size),\n"
     ]
    },
    {
     "name": "stdout",
     "output_type": "stream",
     "text": [
      "50/49 [==============================] - ETA: 0s - loss: 0.8069 - accuracy: 0.5789\n",
      "Epoch 1: val_loss improved from inf to 0.68707, saving model to python\\first_model.model\n"
     ]
    },
    {
     "name": "stderr",
     "output_type": "stream",
     "text": [
      "WARNING:absl:Found untraced functions such as _jit_compiled_convolution_op, _jit_compiled_convolution_op while saving (showing 2 of 2). These functions will not be directly callable after loading.\n"
     ]
    },
    {
     "name": "stdout",
     "output_type": "stream",
     "text": [
      "INFO:tensorflow:Assets written to: python\\first_model.model\\assets\n"
     ]
    },
    {
     "name": "stderr",
     "output_type": "stream",
     "text": [
      "INFO:tensorflow:Assets written to: python\\first_model.model\\assets\n"
     ]
    },
    {
     "name": "stdout",
     "output_type": "stream",
     "text": [
      "49/49 [==============================] - 5s 101ms/step - loss: 0.8069 - accuracy: 0.5789 - val_loss: 0.6871 - val_accuracy: 0.6599 - lr: 0.0010\n",
      "Epoch 2/200\n",
      "50/49 [==============================] - ETA: 0s - loss: 0.6141 - accuracy: 0.6711\n",
      "Epoch 2: val_loss improved from 0.68707 to 0.62179, saving model to python\\first_model.model\n"
     ]
    },
    {
     "name": "stderr",
     "output_type": "stream",
     "text": [
      "WARNING:absl:Found untraced functions such as _jit_compiled_convolution_op, _jit_compiled_convolution_op while saving (showing 2 of 2). These functions will not be directly callable after loading.\n"
     ]
    },
    {
     "name": "stdout",
     "output_type": "stream",
     "text": [
      "INFO:tensorflow:Assets written to: python\\first_model.model\\assets\n"
     ]
    },
    {
     "name": "stderr",
     "output_type": "stream",
     "text": [
      "INFO:tensorflow:Assets written to: python\\first_model.model\\assets\n"
     ]
    },
    {
     "name": "stdout",
     "output_type": "stream",
     "text": [
      "49/49 [==============================] - 5s 104ms/step - loss: 0.6141 - accuracy: 0.6711 - val_loss: 0.6218 - val_accuracy: 0.6472 - lr: 0.0010\n",
      "Epoch 3/200\n",
      "50/49 [==============================] - ETA: 0s - loss: 0.5649 - accuracy: 0.7118\n",
      "Epoch 3: val_loss did not improve from 0.62179\n",
      "49/49 [==============================] - 5s 97ms/step - loss: 0.5649 - accuracy: 0.7118 - val_loss: 0.6312 - val_accuracy: 0.6574 - lr: 0.0010\n",
      "Epoch 4/200\n",
      "50/49 [==============================] - ETA: 0s - loss: 0.4895 - accuracy: 0.7780\n",
      "Epoch 4: val_loss improved from 0.62179 to 0.58397, saving model to python\\first_model.model\n"
     ]
    },
    {
     "name": "stderr",
     "output_type": "stream",
     "text": [
      "WARNING:absl:Found untraced functions such as _jit_compiled_convolution_op, _jit_compiled_convolution_op while saving (showing 2 of 2). These functions will not be directly callable after loading.\n"
     ]
    },
    {
     "name": "stdout",
     "output_type": "stream",
     "text": [
      "INFO:tensorflow:Assets written to: python\\first_model.model\\assets\n"
     ]
    },
    {
     "name": "stderr",
     "output_type": "stream",
     "text": [
      "INFO:tensorflow:Assets written to: python\\first_model.model\\assets\n"
     ]
    },
    {
     "name": "stdout",
     "output_type": "stream",
     "text": [
      "49/49 [==============================] - 5s 102ms/step - loss: 0.4895 - accuracy: 0.7780 - val_loss: 0.5840 - val_accuracy: 0.7056 - lr: 0.0010\n",
      "Epoch 5/200\n",
      "49/49 [============================>.] - ETA: 0s - loss: 0.3147 - accuracy: 0.8839\n",
      "Epoch 5: val_loss did not improve from 0.58397\n",
      "49/49 [==============================] - 5s 100ms/step - loss: 0.3146 - accuracy: 0.8842 - val_loss: 0.7052 - val_accuracy: 0.7005 - lr: 0.0010\n",
      "Epoch 6/200\n",
      "50/49 [==============================] - ETA: 0s - loss: 0.1725 - accuracy: 0.9421\n",
      "Epoch 6: val_loss did not improve from 0.58397\n",
      "49/49 [==============================] - 5s 97ms/step - loss: 0.1725 - accuracy: 0.9421 - val_loss: 0.8970 - val_accuracy: 0.6218 - lr: 0.0010\n",
      "Epoch 7/200\n",
      "50/49 [==============================] - ETA: 0s - loss: 0.0853 - accuracy: 0.9796\n",
      "Epoch 7: val_loss did not improve from 0.58397\n",
      "49/49 [==============================] - 5s 98ms/step - loss: 0.0853 - accuracy: 0.9796 - val_loss: 0.8756 - val_accuracy: 0.6802 - lr: 0.0010\n",
      "Epoch 8/200\n",
      "50/49 [==============================] - ETA: 0s - loss: 0.0363 - accuracy: 0.9968\n",
      "Epoch 8: val_loss did not improve from 0.58397\n",
      "49/49 [==============================] - 5s 98ms/step - loss: 0.0363 - accuracy: 0.9968 - val_loss: 0.9876 - val_accuracy: 0.6802 - lr: 0.0010\n",
      "Epoch 9/200\n",
      "50/49 [==============================] - ETA: 0s - loss: 0.0178 - accuracy: 0.9994\n",
      "Epoch 9: val_loss did not improve from 0.58397\n",
      "\n",
      "Epoch 9: ReduceLROnPlateau reducing learning rate to 0.0005000000237487257.\n",
      "49/49 [==============================] - 5s 99ms/step - loss: 0.0178 - accuracy: 0.9994 - val_loss: 0.9882 - val_accuracy: 0.6624 - lr: 0.0010\n",
      "Epoch 10/200\n",
      "50/49 [==============================] - ETA: 0s - loss: 0.0082 - accuracy: 1.0000\n",
      "Epoch 10: val_loss did not improve from 0.58397\n",
      "49/49 [==============================] - 5s 97ms/step - loss: 0.0082 - accuracy: 1.0000 - val_loss: 1.0932 - val_accuracy: 0.6447 - lr: 5.0000e-04\n",
      "Epoch 11/200\n",
      "50/49 [==============================] - ETA: 0s - loss: 0.0060 - accuracy: 1.0000\n",
      "Epoch 11: val_loss did not improve from 0.58397\n",
      "49/49 [==============================] - 5s 97ms/step - loss: 0.0060 - accuracy: 1.0000 - val_loss: 1.1014 - val_accuracy: 0.6447 - lr: 5.0000e-04\n",
      "Epoch 12/200\n",
      "50/49 [==============================] - ETA: 0s - loss: 0.0047 - accuracy: 1.0000\n",
      "Epoch 12: val_loss did not improve from 0.58397\n",
      "49/49 [==============================] - 5s 95ms/step - loss: 0.0047 - accuracy: 1.0000 - val_loss: 1.1471 - val_accuracy: 0.6701 - lr: 5.0000e-04\n",
      "Epoch 13/200\n",
      "49/49 [============================>.] - ETA: 0s - loss: 0.0038 - accuracy: 1.0000\n",
      "Epoch 13: val_loss did not improve from 0.58397\n",
      "49/49 [==============================] - 5s 97ms/step - loss: 0.0038 - accuracy: 1.0000 - val_loss: 1.1485 - val_accuracy: 0.6599 - lr: 5.0000e-04\n",
      "Epoch 14/200\n",
      "50/49 [==============================] - ETA: 0s - loss: 0.0032 - accuracy: 1.0000\n",
      "Epoch 14: val_loss did not improve from 0.58397\n",
      "\n",
      "Epoch 14: ReduceLROnPlateau reducing learning rate to 0.0002500000118743628.\n",
      "49/49 [==============================] - 5s 98ms/step - loss: 0.0032 - accuracy: 1.0000 - val_loss: 1.1885 - val_accuracy: 0.6548 - lr: 5.0000e-04\n",
      "Epoch 15/200\n",
      "50/49 [==============================] - ETA: 0s - loss: 0.0026 - accuracy: 1.0000\n",
      "Epoch 15: val_loss did not improve from 0.58397\n",
      "49/49 [==============================] - 5s 99ms/step - loss: 0.0026 - accuracy: 1.0000 - val_loss: 1.1959 - val_accuracy: 0.6599 - lr: 2.5000e-04\n",
      "Epoch 16/200\n",
      "50/49 [==============================] - ETA: 0s - loss: 0.0024 - accuracy: 1.0000\n",
      "Epoch 16: val_loss did not improve from 0.58397\n",
      "49/49 [==============================] - 5s 99ms/step - loss: 0.0024 - accuracy: 1.0000 - val_loss: 1.2112 - val_accuracy: 0.6650 - lr: 2.5000e-04\n",
      "Epoch 17/200\n",
      "50/49 [==============================] - ETA: 0s - loss: 0.0022 - accuracy: 1.0000\n",
      "Epoch 17: val_loss did not improve from 0.58397\n",
      "49/49 [==============================] - 5s 96ms/step - loss: 0.0022 - accuracy: 1.0000 - val_loss: 1.2327 - val_accuracy: 0.6624 - lr: 2.5000e-04\n",
      "Epoch 18/200\n",
      "50/49 [==============================] - ETA: 0s - loss: 0.0021 - accuracy: 1.0000\n",
      "Epoch 18: val_loss did not improve from 0.58397\n",
      "49/49 [==============================] - 5s 99ms/step - loss: 0.0021 - accuracy: 1.0000 - val_loss: 1.2384 - val_accuracy: 0.6624 - lr: 2.5000e-04\n",
      "Epoch 19/200\n",
      "50/49 [==============================] - ETA: 0s - loss: 0.0019 - accuracy: 1.0000\n",
      "Epoch 19: val_loss did not improve from 0.58397\n",
      "\n",
      "Epoch 19: ReduceLROnPlateau reducing learning rate to 0.0001250000059371814.\n",
      "49/49 [==============================] - 5s 98ms/step - loss: 0.0019 - accuracy: 1.0000 - val_loss: 1.2463 - val_accuracy: 0.6650 - lr: 2.5000e-04\n",
      "Epoch 20/200\n",
      "50/49 [==============================] - ETA: 0s - loss: 0.0018 - accuracy: 1.0000\n",
      "Epoch 20: val_loss did not improve from 0.58397\n",
      "49/49 [==============================] - 5s 98ms/step - loss: 0.0018 - accuracy: 1.0000 - val_loss: 1.2565 - val_accuracy: 0.6675 - lr: 1.2500e-04\n",
      "Epoch 21/200\n",
      "50/49 [==============================] - ETA: 0s - loss: 0.0017 - accuracy: 1.0000\n",
      "Epoch 21: val_loss did not improve from 0.58397\n",
      "49/49 [==============================] - 5s 99ms/step - loss: 0.0017 - accuracy: 1.0000 - val_loss: 1.2529 - val_accuracy: 0.6624 - lr: 1.2500e-04\n",
      "Epoch 22/200\n",
      "50/49 [==============================] - ETA: 0s - loss: 0.0016 - accuracy: 1.0000\n",
      "Epoch 22: val_loss did not improve from 0.58397\n",
      "49/49 [==============================] - 5s 97ms/step - loss: 0.0016 - accuracy: 1.0000 - val_loss: 1.2656 - val_accuracy: 0.6675 - lr: 1.2500e-04\n",
      "Epoch 23/200\n",
      "50/49 [==============================] - ETA: 0s - loss: 0.0015 - accuracy: 1.0000\n",
      "Epoch 23: val_loss did not improve from 0.58397\n",
      "49/49 [==============================] - 5s 97ms/step - loss: 0.0015 - accuracy: 1.0000 - val_loss: 1.2691 - val_accuracy: 0.6574 - lr: 1.2500e-04\n",
      "Epoch 24/200\n",
      "50/49 [==============================] - ETA: 0s - loss: 0.0015 - accuracy: 1.0000\n",
      "Epoch 24: val_loss did not improve from 0.58397\n",
      "\n",
      "Epoch 24: ReduceLROnPlateau reducing learning rate to 6.25000029685907e-05.\n",
      "49/49 [==============================] - 5s 97ms/step - loss: 0.0015 - accuracy: 1.0000 - val_loss: 1.2797 - val_accuracy: 0.6701 - lr: 1.2500e-04\n",
      "Epoch 24: early stopping\n"
     ]
    }
   ],
   "source": [
    "model, history = train_model(model, 200, save_path, train_X, train_y, test_X, test_y, data_augmentation = False)"
   ]
  },
  {
   "cell_type": "code",
   "execution_count": 12,
   "id": "0552b91a-b056-476a-8b17-600be455c957",
   "metadata": {},
   "outputs": [
    {
     "data": {
      "image/png": "[encoded data removed]",
      "text/plain": [
       "<Figure size 2880x1080 with 1 Axes>"
      ]
     },
     "metadata": {
      "needs_background": "light"
     },
     "output_type": "display_data"
    }
   ],
   "source": [
    "plt.figure(figsize = (40,15))\n",
    "plt.plot(history.history['accuracy'])\n",
    "plt.plot(history.history['val_accuracy'])\n",
    "plt.title('Model loss')\n",
    "plt.ylabel('Loss')\n",
    "plt.xlabel('Epoch')\n",
    "plt.rcParams['font.size'] = '20'\n",
    "plt.legend(['Train', 'Test'], loc='upper left', fontsize = 20)\n",
    "plt.show()"
   ]
  }
 ],
 "metadata": {
  "kernelspec": {
   "display_name": "Python 3 (ipykernel)",
   "language": "python",
   "name": "python3"
  },
  "language_info": {
   "codemirror_mode": {
    "name": "ipython",
    "version": 3
   },
   "file_extension": ".py",
   "mimetype": "text/x-python",
   "name": "python",
   "nbconvert_exporter": "python",
   "pygments_lexer": "ipython3",
   "version": "3.9.12"
  }
 },
 "nbformat": 4,
 "nbformat_minor": 5
}
